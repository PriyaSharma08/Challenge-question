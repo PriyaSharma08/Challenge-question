{
  "nbformat": 4,
  "nbformat_minor": 0,
  "metadata": {
    "colab": {
      "provenance": [],
      "authorship_tag": "ABX9TyN4NN86joKzWtlTuvpAaCmS",
      "include_colab_link": true
    },
    "kernelspec": {
      "name": "python3",
      "display_name": "Python 3"
    },
    "language_info": {
      "name": "python"
    }
  },
  "cells": [
    {
      "cell_type": "markdown",
      "metadata": {
        "id": "view-in-github",
        "colab_type": "text"
      },
      "source": [
        "<a href=\"https://colab.research.google.com/github/PriyaSharma08/Challenge-question/blob/main/Challenge_Question_.ipynb\" target=\"_parent\"><img src=\"https://colab.research.google.com/assets/colab-badge.svg\" alt=\"Open In Colab\"/></a>"
      ]
    },
    {
      "cell_type": "code",
      "execution_count": 7,
      "metadata": {
        "colab": {
          "base_uri": "https://localhost:8080/"
        },
        "id": "iZhc5PsDsuMy",
        "outputId": "7d2fc314-4897-4188-e4d9-8ab9f43d1e3f"
      },
      "outputs": [
        {
          "output_type": "stream",
          "name": "stdout",
          "text": [
            "['ram', '1', ' shyam ', '2', 'aman', '3']\n",
            "['ram', 1, ' shyam ', 2, 'aman', 3]\n",
            "[' shyam ', '1', '2', '3', 'aman', 'ram']\n"
          ]
        }
      ],
      "source": [
        "L= [ \"ram\",1,\" shyam \",2,\"aman\",3]\n",
        "L=[str(i) for i in L]\n",
        "print (L)\n",
        "L1=[]\n",
        "for i in L:\n",
        "  try:\n",
        "    L1.append (int(i))\n",
        "  except:\n",
        "      L1.append(i)\n",
        "print (L1)\n",
        "L.sort()\n",
        "print(L)"
      ]
    }
  ]
}